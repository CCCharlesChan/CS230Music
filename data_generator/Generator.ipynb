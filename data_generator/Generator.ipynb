{
 "cells": [
  {
   "cell_type": "code",
   "execution_count": 63,
   "metadata": {},
   "outputs": [],
   "source": [
    "import subprocess\n",
    "import os.path as op\n",
    "import numpy as np\n",
    "from os import listdir"
   ]
  },
  {
   "cell_type": "code",
   "execution_count": 70,
   "metadata": {},
   "outputs": [],
   "source": [
    "working_dir = '/Users/charleschen/Documents/Courses/CS230/Project/Code/test/data_generator/'\n",
    "magenta_dir = 'magenta'\n",
    "fluidsynth_dir = 'fluidsynth'\n",
    "chroma_dir = 'NNLS_Chroma'\n",
    "\n",
    "magenta_config = 'attention_rnn'\n",
    "gen_music_len = 2048\n",
    "gen_music_num = 2\n",
    "#start_seed = [60, -2, 60, -2, 67, -2, 67, -2]\n",
    "\n",
    "soundfont_file = 'GS.sf2'\n",
    "\n",
    "NNLS_config = 'chroma_spec_1.n3'\n",
    "\n"
   ]
  },
  {
   "cell_type": "code",
   "execution_count": 62,
   "metadata": {},
   "outputs": [],
   "source": [
    "for i in range(gen_music_num):\n",
    "    file = open(\"Magenta_bash.sh\", \"w\")\n",
    "    file.write(\"source activate magenta\\n\")\n",
    "    file.write(\"melody_rnn_generate --config=\\'\"+magenta_config+\"\\'\"+\\\n",
    "               \" --bundle_file=\\\"\"+op.join(working_dir, magenta_config+\".mag\")+\"\\\"\"+\\\n",
    "               \" --output_dir=\\\"\"+op.join(working_dir, magenta_dir)+\"\\\"\"+\\\n",
    "               \" --num_outputs=1\"+\n",
    "               \" --num_steps=\"+str(gen_music_len)+\n",
    "               \" --primer_melody=\\\"[60]\\\"\\n\")\n",
    "    file.write(\"source deactivate magenta\")\n",
    "    file.close()\n",
    "    subprocess.call(\"chmod 755 Magenta_bash.sh\", shell=True)\n",
    "    subprocess.call(\"./Magenta_bash.sh\", shell=True)"
   ]
  },
  {
   "cell_type": "code",
   "execution_count": 65,
   "metadata": {},
   "outputs": [],
   "source": [
    "k = 0\n",
    "for f in listdir(op.join(working_dir, magenta_dir)):\n",
    "    file = open(\"fluid_config.txt\", \"w\")\n",
    "    file.write(\"load \"+ \"GS.sf2\\n\")\n",
    "    if k%3==0:\n",
    "        file.write(\"select 0 1 0 0\\n\") #11/39 128/1\n",
    "    elif k%3==1:\n",
    "        file.write(\"select 0 1 11 39\\n\")\n",
    "    else:\n",
    "        file.write(\"select 0 1 128 1\\n\")\n",
    "    file.close()\n",
    "    subprocess.call(\"fluidsynth -i -f fluid_config.txt -F \"+op.join(working_dir, fluidsynth_dir, \"gen_music_\"+str(k)+'.wav')+\" -o player.reset-synth=False \"+op.join(magenta_dir, f), shell=True)\n",
    "    k=k+1"
   ]
  },
  {
   "cell_type": "code",
   "execution_count": 74,
   "metadata": {},
   "outputs": [
    {
     "data": {
      "text/plain": [
       "0"
      ]
     },
     "execution_count": 74,
     "metadata": {},
     "output_type": "execute_result"
    }
   ],
   "source": [
    "file = open(\"NNLS_bash.sh\", \"w\")\n",
    "file.write(\"source ~/.bashrc\\n\")\n",
    "file.write(\"sonic-annotator -t \"+op.join(working_dir, NNLS_config)+\" -r \"+op.join(working_dir, fluidsynth_dir)+\" -w csv --csv-force --csv-basedir \"+op.join(working_dir, chroma_dir))\n",
    "file.close()\n",
    "\n",
    "subprocess.call(\"chmod 755 NNLS_bash.sh\", shell=True)\n",
    "subprocess.call(\"./NNLS_bash.sh\", shell=True)"
   ]
  },
  {
   "cell_type": "code",
   "execution_count": null,
   "metadata": {},
   "outputs": [],
   "source": []
  }
 ],
 "metadata": {
  "kernelspec": {
   "display_name": "Python 3",
   "language": "python",
   "name": "python3"
  },
  "language_info": {
   "codemirror_mode": {
    "name": "ipython",
    "version": 3
   },
   "file_extension": ".py",
   "mimetype": "text/x-python",
   "name": "python",
   "nbconvert_exporter": "python",
   "pygments_lexer": "ipython3",
   "version": "3.6.4"
  }
 },
 "nbformat": 4,
 "nbformat_minor": 2
}
